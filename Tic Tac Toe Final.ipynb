{
 "cells": [
  {
   "cell_type": "code",
   "execution_count": 6,
   "metadata": {
    "collapsed": true
   },
   "outputs": [],
   "source": [
    "from __future__ import print_function \n",
    "from IPython.display import clear_output\n",
    "import random"
   ]
  },
  {
   "cell_type": "code",
   "execution_count": 7,
   "metadata": {
    "collapsed": true
   },
   "outputs": [],
   "source": [
    "def display_board():\n",
    "        \n",
    "        print (board[0],'|', board[1],'|', board[2])\n",
    "        print ('---------')\n",
    "        print (board[3],'|', board[4],'|', board[5])\n",
    "        print ('---------')\n",
    "        print (board[6],'|', board[7],'|', board[8])\n",
    "    "
   ]
  },
  {
   "cell_type": "code",
   "execution_count": 8,
   "metadata": {
    "collapsed": true
   },
   "outputs": [],
   "source": [
    "dic={'X':0,'O':0}\n",
    "def player_input(position):\n",
    "    while position in xrange(1,10):\n",
    "        if dic['X']==dic['O']:\n",
    "            dic['X']+=1\n",
    "            return 'X'\n",
    "        \n",
    "        else:\n",
    "            dic['O']+=1 \n",
    "            return 'O'  \n",
    "    else:\n",
    "        pass\n",
    "    \n",
    "\n",
    "        "
   ]
  },
  {
   "cell_type": "code",
   "execution_count": 9,
   "metadata": {
    "collapsed": true
   },
   "outputs": [],
   "source": [
    "def place_marker(marker, position):\n",
    "    board[position-1]=marker\n",
    "    \n",
    "    "
   ]
  },
  {
   "cell_type": "code",
   "execution_count": 10,
   "metadata": {
    "collapsed": true
   },
   "outputs": [],
   "source": [
    "def win_check(mark):\n",
    "    if [board[0], board[1], board[2]]==[mark]*3:\n",
    "        return True\n",
    "    elif ([board[3], board[4], board[5]])==[mark]*3:\n",
    "        return True\n",
    "    elif ([board[6], board[7], board[8]])==[mark]*3:\n",
    "        return True\n",
    "    elif ([board[0], board[4], board[8]])==[mark]*3:\n",
    "        return True\n",
    "    elif ([board[2], board[4], board[6]])==[mark]*3:\n",
    "        return True\n",
    "    elif ([board[0], board[3], board[6]])==[mark]*3:\n",
    "        return True\n",
    "    elif ([board[1], board[4], board[7]])==[mark]*3:\n",
    "        return True\n",
    "    elif ([board[2], board[5], board[8]])==[mark]*3:\n",
    "        return True\n",
    "    else:\n",
    "        pass"
   ]
  },
  {
   "cell_type": "code",
   "execution_count": 11,
   "metadata": {
    "collapsed": true
   },
   "outputs": [],
   "source": [
    "def choose_first():\n",
    "    if random.randint(1,2)==1:\n",
    "        return 'Player 1'\n",
    "    else:\n",
    "        return \"Player 2\""
   ]
  },
  {
   "cell_type": "code",
   "execution_count": 12,
   "metadata": {
    "collapsed": true
   },
   "outputs": [],
   "source": [
    "def space_check(position):\n",
    "\n",
    "        return position in board\n",
    "        \n",
    "        "
   ]
  },
  {
   "cell_type": "code",
   "execution_count": 13,
   "metadata": {
    "collapsed": true
   },
   "outputs": [],
   "source": [
    "def full_board_check():\n",
    "    for i in range(1,10):\n",
    "        if space_check(i)==True:\n",
    "            return False     \n",
    "    return True\n",
    "        "
   ]
  },
  {
   "cell_type": "code",
   "execution_count": 20,
   "metadata": {
    "collapsed": true
   },
   "outputs": [],
   "source": [
    "def player_choice():\n",
    "    position = ' '\n",
    "    while True:\n",
    "        try:\n",
    "            position = raw_input('Choose your next position: (1-9) ')\n",
    "            position = int(position)\n",
    "            return position\n",
    "        except ValueError:\n",
    "            print(\"Sorry, please input a number between 1-9.\")\n",
    "            continue            \n",
    "\n",
    "\n",
    "    "
   ]
  },
  {
   "cell_type": "code",
   "execution_count": 21,
   "metadata": {
    "collapsed": true
   },
   "outputs": [],
   "source": [
    "def replay():\n",
    "    \n",
    "        replay_ans= raw_input('Play Again? Yes or No: ')\n",
    "        if 'y' in replay_ans.lower():\n",
    "            clear_output()\n",
    "            global board\n",
    "            board = [1,2,3,4,5,6,7,8,9]\n",
    "            global dic\n",
    "            dic={'X':0,'O':0}\n",
    "                 \n",
    "            \n",
    "        else:\n",
    "            print ('Tnx for playing')\n",
    "            return False\n",
    "    \n",
    "        \n",
    "        "
   ]
  },
  {
   "cell_type": "code",
   "execution_count": 22,
   "metadata": {},
   "outputs": [
    {
     "name": "stdout",
     "output_type": "stream",
     "text": [
      "X | O | 3\n",
      "---------\n",
      "4 | X | O\n",
      "---------\n",
      "7 | 8 | X\n",
      "Player 1 You Win!\n",
      "Play Again? Yes or No: n\n",
      "Tnx for playing\n"
     ]
    }
   ],
   "source": [
    "print('Welcome to Tic Tac Toe!')\n",
    "\n",
    "while True:\n",
    "    board = range(1,10)\n",
    "    dic={'X':0,'O':0}\n",
    "    print (choose_first(),' you start!')\n",
    "    turn = choose_first()\n",
    "    if turn=='Player 1':\n",
    "        print ('Your Marker is - X')\n",
    "    else:\n",
    "        print ('Your Marker is - O')\n",
    "          \n",
    "    first_player_marker, second_player_marker = ('X','O')\n",
    "    \n",
    "    gameon = True\n",
    "        \n",
    "    while gameon:\n",
    "        if turn == \"Player 1\": #player 1 turn\n",
    "            \n",
    "            display_board()\n",
    "            position = player_choice()\n",
    "            clear_output()\n",
    "            place_marker(first_player_marker, position)\n",
    "            \n",
    "            if win_check(first_player_marker):\n",
    "                clear_output()\n",
    "                display_board()\n",
    "                print (turn +  ' You Win!')\n",
    "                gameon = False\n",
    "            else:\n",
    "                if full_board_check():\n",
    "                    clear_output()\n",
    "                    display_board()\n",
    "                    print ('Its A Draw')\n",
    "                    replay()\n",
    "                    break\n",
    "                else:\n",
    "                    turn = 'Player 2'\n",
    "                    \n",
    "        else: #player 2 turn\n",
    "          \n",
    "            display_board()\n",
    "            position = player_choice()\n",
    "            clear_output()\n",
    "            place_marker(second_player_marker, position)\n",
    "            \n",
    "            if win_check(second_player_marker):\n",
    "                clear_output()\n",
    "                display_board()\n",
    "                print (turn + ' You Win!')\n",
    "                gameon = False\n",
    "            else:\n",
    "                if full_board_check():\n",
    "                    clear_output()\n",
    "                    display_board()\n",
    "                    print ('Its A Draw')\n",
    "                    replay()\n",
    "                else:\n",
    "                    turn = 'Player 1'\n",
    "            \n",
    "    else:\n",
    "        replay()\n",
    "        break\n",
    "        \n",
    "        \n",
    "    \n",
    "    \n",
    "\n",
    "\n",
    "    \n"
   ]
  },
  {
   "cell_type": "code",
   "execution_count": null,
   "metadata": {
    "collapsed": true
   },
   "outputs": [],
   "source": []
  }
 ],
 "metadata": {
  "kernelspec": {
   "display_name": "Python 2",
   "language": "python",
   "name": "python2"
  },
  "language_info": {
   "codemirror_mode": {
    "name": "ipython",
    "version": 2
   },
   "file_extension": ".py",
   "mimetype": "text/x-python",
   "name": "python",
   "nbconvert_exporter": "python",
   "pygments_lexer": "ipython2",
   "version": "2.7.13"
  }
 },
 "nbformat": 4,
 "nbformat_minor": 2
}
